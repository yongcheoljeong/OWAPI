{
 "metadata": {
  "language_info": {
   "codemirror_mode": {
    "name": "ipython",
    "version": 3
   },
   "file_extension": ".py",
   "mimetype": "text/x-python",
   "name": "python",
   "nbconvert_exporter": "python",
   "pygments_lexer": "ipython3",
   "version": "3.7.9-final"
  },
  "orig_nbformat": 2,
  "kernelspec": {
   "name": "python3",
   "display_name": "Python 3.7.9 64-bit",
   "metadata": {
    "interpreter": {
     "hash": "38e778ec9b46f150f7def600b4936b3e96b2bd9fb9bb7d407a503baa85be6239"
    }
   }
  }
 },
 "nbformat": 4,
 "nbformat_minor": 2,
 "cells": [
  {
   "cell_type": "code",
   "execution_count": 1,
   "metadata": {},
   "outputs": [],
   "source": [
    "import pandas as pd\n",
    "import numpy as np\n",
    "import zipfile\n",
    "import os\n",
    "import json\n",
    "import time\n",
    "import multiprocessing as mp\n",
    "import matplotlib.pyplot as plt"
   ]
  },
  {
   "cell_type": "code",
   "execution_count": 2,
   "metadata": {},
   "outputs": [],
   "source": [
    "# dir\n",
    "dir = '../simple phs/phs_2019/'\n",
    "filename = f'{dir}phs_2019_playoffs.csv'\n",
    "df = pd.read_csv(filename)"
   ]
  },
  {
   "cell_type": "code",
   "execution_count": 3,
   "metadata": {},
   "outputs": [
    {
     "output_type": "execute_result",
     "data": {
      "text/plain": [
       "       start_time  match_id                              stage map_type  \\\n",
       "0  8/31/2019 1:09     30172  Overwatch League 2019 Post-Season  CONTROL   \n",
       "1  8/31/2019 1:09     30172  Overwatch League 2019 Post-Season  CONTROL   \n",
       "2  8/31/2019 1:09     30172  Overwatch League 2019 Post-Season  CONTROL   \n",
       "3  8/31/2019 1:09     30172  Overwatch League 2019 Post-Season  CONTROL   \n",
       "4  8/31/2019 1:09     30172  Overwatch League 2019 Post-Season  CONTROL   \n",
       "\n",
       "  map_name player             team             stat_name        hero  \\\n",
       "0    Ilios   Elsa  Chengdu Hunters       All Damage Done  All Heroes   \n",
       "1    Ilios   Elsa  Chengdu Hunters               Assists  All Heroes   \n",
       "2    Ilios   Elsa  Chengdu Hunters    Average Time Alive  All Heroes   \n",
       "3    Ilios   Elsa  Chengdu Hunters   Barrier Damage Done  All Heroes   \n",
       "4    Ilios   Elsa  Chengdu Hunters  Damage - Quick Melee  All Heroes   \n",
       "\n",
       "    stat_amount  \n",
       "0  19059.670270  \n",
       "1     22.000000  \n",
       "2    302.704223  \n",
       "3   8861.540116  \n",
       "4    152.999995  "
      ],
      "text/html": "<div>\n<style scoped>\n    .dataframe tbody tr th:only-of-type {\n        vertical-align: middle;\n    }\n\n    .dataframe tbody tr th {\n        vertical-align: top;\n    }\n\n    .dataframe thead th {\n        text-align: right;\n    }\n</style>\n<table border=\"1\" class=\"dataframe\">\n  <thead>\n    <tr style=\"text-align: right;\">\n      <th></th>\n      <th>start_time</th>\n      <th>match_id</th>\n      <th>stage</th>\n      <th>map_type</th>\n      <th>map_name</th>\n      <th>player</th>\n      <th>team</th>\n      <th>stat_name</th>\n      <th>hero</th>\n      <th>stat_amount</th>\n    </tr>\n  </thead>\n  <tbody>\n    <tr>\n      <th>0</th>\n      <td>8/31/2019 1:09</td>\n      <td>30172</td>\n      <td>Overwatch League 2019 Post-Season</td>\n      <td>CONTROL</td>\n      <td>Ilios</td>\n      <td>Elsa</td>\n      <td>Chengdu Hunters</td>\n      <td>All Damage Done</td>\n      <td>All Heroes</td>\n      <td>19059.670270</td>\n    </tr>\n    <tr>\n      <th>1</th>\n      <td>8/31/2019 1:09</td>\n      <td>30172</td>\n      <td>Overwatch League 2019 Post-Season</td>\n      <td>CONTROL</td>\n      <td>Ilios</td>\n      <td>Elsa</td>\n      <td>Chengdu Hunters</td>\n      <td>Assists</td>\n      <td>All Heroes</td>\n      <td>22.000000</td>\n    </tr>\n    <tr>\n      <th>2</th>\n      <td>8/31/2019 1:09</td>\n      <td>30172</td>\n      <td>Overwatch League 2019 Post-Season</td>\n      <td>CONTROL</td>\n      <td>Ilios</td>\n      <td>Elsa</td>\n      <td>Chengdu Hunters</td>\n      <td>Average Time Alive</td>\n      <td>All Heroes</td>\n      <td>302.704223</td>\n    </tr>\n    <tr>\n      <th>3</th>\n      <td>8/31/2019 1:09</td>\n      <td>30172</td>\n      <td>Overwatch League 2019 Post-Season</td>\n      <td>CONTROL</td>\n      <td>Ilios</td>\n      <td>Elsa</td>\n      <td>Chengdu Hunters</td>\n      <td>Barrier Damage Done</td>\n      <td>All Heroes</td>\n      <td>8861.540116</td>\n    </tr>\n    <tr>\n      <th>4</th>\n      <td>8/31/2019 1:09</td>\n      <td>30172</td>\n      <td>Overwatch League 2019 Post-Season</td>\n      <td>CONTROL</td>\n      <td>Ilios</td>\n      <td>Elsa</td>\n      <td>Chengdu Hunters</td>\n      <td>Damage - Quick Melee</td>\n      <td>All Heroes</td>\n      <td>152.999995</td>\n    </tr>\n  </tbody>\n</table>\n</div>"
     },
     "metadata": {},
     "execution_count": 3
    }
   ],
   "source": [
    "df.head()"
   ]
  },
  {
   "cell_type": "code",
   "execution_count": 27,
   "metadata": {},
   "outputs": [],
   "source": [
    "dt = df.groupby(by = ['stat_name', 'team', 'player', 'hero']).mean()\n",
    "dt.to_csv('2019_playoffs_stat_df.csv')"
   ]
  }
 ]
}