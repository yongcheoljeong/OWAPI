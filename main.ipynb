{
 "metadata": {
  "language_info": {
   "codemirror_mode": {
    "name": "ipython",
    "version": 3
   },
   "file_extension": ".py",
   "mimetype": "text/x-python",
   "name": "python",
   "nbconvert_exporter": "python",
   "pygments_lexer": "ipython3",
   "version": "3.8.5-final"
  },
  "orig_nbformat": 2,
  "kernelspec": {
   "name": "python385jvsc74a57bd010bab76ca3a792500c84cf15e41f41f3b47c84305661022fd44a3b2beb095cfa",
   "display_name": "Python 3.8.5 64-bit (conda)"
  }
 },
 "nbformat": 4,
 "nbformat_minor": 2,
 "cells": [
  {
   "cell_type": "code",
   "execution_count": null,
   "metadata": {},
   "outputs": [],
   "source": [
    "from EventStreamData import *\n",
    "from GUID import *\n",
    "import pandas as pd \n",
    "import numpy as np \n",
    "from pandas.io.json import json_normalize"
   ]
  },
  {
   "cell_type": "code",
   "execution_count": null,
   "metadata": {},
   "outputs": [],
   "source": [
    "root_dir = r'D:\\2021_EventStreamData\\20210419'"
   ]
  },
  {
   "cell_type": "code",
   "execution_count": null,
   "metadata": {},
   "outputs": [],
   "source": [
    "# GameInfo\n",
    "gameinfo = GameInfo() \n",
    "gameinfo.set_directory(root_dir=root_dir)\n",
    "gameinfo.export_to_db(if_exist='append')"
   ]
  },
  {
   "cell_type": "code",
   "execution_count": null,
   "metadata": {},
   "outputs": [],
   "source": [
    "# GameResult\n",
    "gameresult = GameResult() \n",
    "gameresult.set_directory(root_dir=root_dir)\n",
    "gameresult.export_to_db(if_exist='append') "
   ]
  },
  {
   "cell_type": "code",
   "execution_count": null,
   "metadata": {},
   "outputs": [],
   "source": [
    "# Kill\n",
    "kill = Kill() \n",
    "kill.set_directory(root_dir=root_dir)\n",
    "kill.export_to_db(if_exists='append')"
   ]
  },
  {
   "cell_type": "code",
   "execution_count": null,
   "metadata": {},
   "outputs": [],
   "source": [
    "# PlayerStatus\n",
    "playerstatus = PlayerStatus()\n",
    "playerstatus.set_directory(root_dir=root_dir)\n",
    "playerstatus.export_to_db(if_exists='append')"
   ]
  },
  {
   "cell_type": "code",
   "execution_count": null,
   "metadata": {},
   "outputs": [],
   "source": [
    "# PlayerHeroStats\n",
    "playerherostats = PlayerHeroStats()\n",
    "playerherostats.set_directory(root_dir=root_dir)\n",
    "playerherostats.read_and_dump_data()"
   ]
  }
 ]
}