{
 "metadata": {
  "language_info": {
   "codemirror_mode": {
    "name": "ipython",
    "version": 3
   },
   "file_extension": ".py",
   "mimetype": "text/x-python",
   "name": "python",
   "nbconvert_exporter": "python",
   "pygments_lexer": "ipython3",
   "version": "3.8.5-final"
  },
  "orig_nbformat": 2,
  "kernelspec": {
   "name": "python385jvsc74a57bd010bab76ca3a792500c84cf15e41f41f3b47c84305661022fd44a3b2beb095cfa",
   "display_name": "Python 3.8.5 64-bit ('NYXL': virtualenv)"
  }
 },
 "nbformat": 4,
 "nbformat_minor": 2,
 "cells": [
  {
   "cell_type": "code",
   "execution_count": 1,
   "metadata": {},
   "outputs": [],
   "source": [
    "from EventStreamData import *\n",
    "from GUID import *\n",
    "import pandas as pd \n",
    "import numpy as np \n",
    "from pandas.io.json import json_normalize"
   ]
  },
  {
   "cell_type": "code",
   "execution_count": 2,
   "metadata": {},
   "outputs": [
    {
     "output_type": "stream",
     "name": "stdout",
     "text": [
      "Data exported: match_35509\n",
      "Data exported: match_35510\n",
      "Data exported: match_35551\n",
      "Data exported: match_35554\n",
      "Data exported: match_35553\n",
      "Data exported: match_35552\n",
      "Data exported: match_35509\n",
      "Data exported: match_35510\n",
      "Data exported: match_35551\n",
      "Data exported: match_35554\n",
      "Data exported: match_35553\n",
      "Data exported: match_35552\n",
      "Data exported: match_35509\n",
      "Data exported: match_35510\n",
      "Data exported: match_35551\n",
      "Data exported: match_35554\n",
      "Data exported: match_35553\n",
      "Data exported: match_35552\n",
      "Data exported: match_35509\n",
      "Data exported: match_35510\n",
      "Data exported: match_35551\n",
      "Data exported: match_35554\n",
      "Data exported: match_35553\n",
      "Data exported: match_35552\n"
     ]
    }
   ],
   "source": [
    "# export to DB\n",
    "gameinfo = GameInfo().export_to_db()\n",
    "gameresult = GameResult().export_to_db()\n",
    "kill = Kill().export_to_db()\n",
    "playerstatus = PlayerStatus().export_to_db()"
   ]
  }
 ]
}