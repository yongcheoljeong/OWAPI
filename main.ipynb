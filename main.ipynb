{
 "metadata": {
  "language_info": {
   "codemirror_mode": {
    "name": "ipython",
    "version": 3
   },
   "file_extension": ".py",
   "mimetype": "text/x-python",
   "name": "python",
   "nbconvert_exporter": "python",
   "pygments_lexer": "ipython3",
   "version": "3.8.5"
  },
  "orig_nbformat": 2,
  "kernelspec": {
   "name": "python385jvsc74a57bd010bab76ca3a792500c84cf15e41f41f3b47c84305661022fd44a3b2beb095cfa",
   "display_name": "Python 3.8.5 64-bit (conda)"
  }
 },
 "nbformat": 4,
 "nbformat_minor": 2,
 "cells": [
  {
   "cell_type": "code",
   "execution_count": 1,
   "metadata": {},
   "outputs": [],
   "source": [
    "from EventStreamData import *\n",
    "from GUID import *\n",
    "import pandas as pd \n",
    "import numpy as np \n",
    "from pandas.io.json import json_normalize"
   ]
  },
  {
   "cell_type": "code",
   "execution_count": 2,
   "metadata": {},
   "outputs": [],
   "source": [
    "root_dir = r'D:\\2021_EventStreamData\\20210426'\n",
    "if_exists = 'append'"
   ]
  },
  {
   "cell_type": "code",
   "execution_count": 3,
   "metadata": {},
   "outputs": [
    {
     "output_type": "stream",
     "name": "stdout",
     "text": [
      "Data exported: match_37227\n",
      "Data exported: match_37226\n",
      "Data exported: match_37225\n",
      "Data exported: match_37250\n",
      "Data exported: match_37249\n",
      "Data exported: match_37224\n",
      "Data exported: match_37223\n",
      "Data exported: match_37222\n",
      "Data exported: match_37248\n",
      "Data exported: match_37247\n",
      "Data exported: match_37221\n",
      "Data exported: match_37220\n",
      "Data exported: match_37219\n"
     ]
    }
   ],
   "source": [
    "# GameInfo\n",
    "gameinfo = GameInfo() \n",
    "gameinfo.set_directory(root_dir=root_dir)\n",
    "gameinfo.export_to_db(if_exists=if_exists)"
   ]
  },
  {
   "cell_type": "code",
   "execution_count": 4,
   "metadata": {},
   "outputs": [
    {
     "output_type": "stream",
     "name": "stdout",
     "text": [
      "Data exported: match_37227\n",
      "Data exported: match_37226\n",
      "Data exported: match_37225\n",
      "Data exported: match_37250\n",
      "Data exported: match_37249\n",
      "Data exported: match_37224\n",
      "Data exported: match_37223\n",
      "Data exported: match_37222\n",
      "Data exported: match_37248\n",
      "Data exported: match_37247\n",
      "Data exported: match_37221\n",
      "Data exported: match_37220\n",
      "Data exported: match_37219\n"
     ]
    }
   ],
   "source": [
    "# RoundStart \n",
    "roundstart = RoundStart()\n",
    "roundstart.set_directory(root_dir=root_dir)\n",
    "roundstart.export_to_db(if_exists=if_exists)"
   ]
  },
  {
   "cell_type": "code",
   "execution_count": 5,
   "metadata": {},
   "outputs": [
    {
     "output_type": "stream",
     "name": "stdout",
     "text": [
      "Data exported: match_37227\n",
      "Data exported: match_37226\n",
      "Data exported: match_37225\n",
      "Data exported: match_37250\n",
      "Data exported: match_37249\n",
      "Data exported: match_37224\n",
      "Data exported: match_37223\n",
      "Data exported: match_37222\n",
      "Data exported: match_37248\n",
      "Data exported: match_37247\n",
      "Data exported: match_37221\n",
      "Data exported: match_37220\n",
      "Data exported: match_37219\n"
     ]
    }
   ],
   "source": [
    "# GameResult\n",
    "gameresult = GameResult() \n",
    "gameresult.set_directory(root_dir=root_dir)\n",
    "gameresult.export_to_db(if_exists=if_exists) "
   ]
  },
  {
   "cell_type": "code",
   "execution_count": 6,
   "metadata": {},
   "outputs": [
    {
     "output_type": "stream",
     "name": "stdout",
     "text": [
      "Data exported: match_37227\n",
      "Data exported: match_37226\n",
      "Data exported: match_37225\n",
      "Data exported: match_37250\n",
      "Data exported: match_37249\n",
      "Data exported: match_37224\n",
      "Data exported: match_37223\n",
      "Data exported: match_37222\n",
      "Data exported: match_37248\n",
      "Data exported: match_37247\n",
      "Data exported: match_37221\n",
      "Data exported: match_37220\n",
      "Data exported: match_37219\n"
     ]
    }
   ],
   "source": [
    "# Kill\n",
    "kill = Kill() \n",
    "kill.set_directory(root_dir=root_dir)\n",
    "kill.export_to_db(if_exists=if_exists)"
   ]
  },
  {
   "cell_type": "code",
   "execution_count": 7,
   "metadata": {},
   "outputs": [
    {
     "output_type": "stream",
     "name": "stdout",
     "text": [
      "Data exported: match_37227\n",
      "Data exported: match_37226\n",
      "Data exported: match_37225\n",
      "Data exported: match_37250\n",
      "Data exported: match_37249\n",
      "Data exported: match_37224\n",
      "Data exported: match_37223\n",
      "Data exported: match_37222\n",
      "Data exported: match_37248\n",
      "Data exported: match_37247\n",
      "Data exported: match_37221\n",
      "Data exported: match_37220\n",
      "Data exported: match_37219\n"
     ]
    }
   ],
   "source": [
    "# PlayerStatus\n",
    "playerstatus = PlayerStatus()\n",
    "playerstatus.set_directory(root_dir=root_dir)\n",
    "playerstatus.export_to_db(if_exists=if_exists)"
   ]
  },
  {
   "cell_type": "code",
   "execution_count": 8,
   "metadata": {},
   "outputs": [
    {
     "output_type": "stream",
     "name": "stderr",
     "text": [
      "num row: 12897it [00:00, 32076.56it/s]creating new table: match_37226\n",
      "num row: 19109it [00:00, 24918.92it/s]creating new table: match_37225\n",
      "num row: 28777it [00:00, 27951.46it/s]creating new table: match_37250\n",
      "creating new table: match_37249\n",
      "num row: 45130it [00:01, 31411.15it/s]creating new table: match_37224\n",
      "num row: 55432it [00:01, 30493.99it/s]creating new table: match_37223\n",
      "num row: 65597it [00:02, 31966.02it/s]creating new table: match_37222\n",
      "num row: 75868it [00:02, 26725.03it/s]creating new table: match_37248\n",
      "num row: 85833it [00:02, 23197.97it/s]creating new table: match_37247\n",
      "num row: 98521it [00:03, 26595.94it/s]creating new table: match_37221\n",
      "num row: 105103it [00:03, 29126.04it/s]creating new table: match_37220\n",
      "num row: 115354it [00:03, 31712.15it/s]creating new table: match_37219\n",
      "num row: 72416091it [1:01:34, 19598.69it/s]\n",
      "Time taken: 3704.7887666225433s\n"
     ]
    }
   ],
   "source": [
    "# PlayerHeroStats\n",
    "playerherostats = PlayerHeroStats()\n",
    "playerherostats.set_directory(root_dir=root_dir)\n",
    "playerherostats.read_and_dump_data()"
   ]
  }
 ]
}