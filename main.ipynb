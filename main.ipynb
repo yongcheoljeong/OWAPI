{
 "metadata": {
  "language_info": {
   "codemirror_mode": {
    "name": "ipython",
    "version": 3
   },
   "file_extension": ".py",
   "mimetype": "text/x-python",
   "name": "python",
   "nbconvert_exporter": "python",
   "pygments_lexer": "ipython3",
   "version": "3.8.5-final"
  },
  "orig_nbformat": 2,
  "kernelspec": {
   "name": "python385jvsc74a57bd010bab76ca3a792500c84cf15e41f41f3b47c84305661022fd44a3b2beb095cfa",
   "display_name": "Python 3.8.5 64-bit (conda)"
  }
 },
 "nbformat": 4,
 "nbformat_minor": 2,
 "cells": [
  {
   "cell_type": "code",
   "execution_count": 1,
   "metadata": {},
   "outputs": [],
   "source": [
    "from EventStreamData import *\n",
    "from GUID import *\n",
    "import pandas as pd \n",
    "import numpy as np \n",
    "from pandas.io.json import json_normalize"
   ]
  },
  {
   "cell_type": "code",
   "execution_count": 2,
   "metadata": {},
   "outputs": [],
   "source": [
    "root_dir = r'D:\\2021_EventStreamData\\20210419'"
   ]
  },
  {
   "cell_type": "code",
   "execution_count": 3,
   "metadata": {},
   "outputs": [
    {
     "output_type": "stream",
     "name": "stdout",
     "text": [
      "Data exported: match_37234\n",
      "Data exported: match_37233\n",
      "Data exported: match_37256\n",
      "Data exported: match_37255\n",
      "Data exported: match_37254\n",
      "Data exported: match_37232\n",
      "Data exported: match_37231\n",
      "Data exported: match_37230\n",
      "Data exported: match_37252\n",
      "Data exported: match_37253\n",
      "Data exported: match_37251\n",
      "Data exported: match_37229\n",
      "Data exported: match_37228\n",
      "Data exported: match_37227\n"
     ]
    }
   ],
   "source": [
    "# GameInfo\n",
    "gameinfo = GameInfo() \n",
    "gameinfo.set_directory(root_dir=root_dir)\n",
    "gameinfo.export_to_db()"
   ]
  },
  {
   "cell_type": "code",
   "execution_count": 4,
   "metadata": {},
   "outputs": [
    {
     "output_type": "stream",
     "name": "stdout",
     "text": [
      "Data exported: match_37234\n",
      "Data exported: match_37233\n",
      "Data exported: match_37256\n",
      "Data exported: match_37255\n",
      "Data exported: match_37254\n",
      "Data exported: match_37232\n",
      "Data exported: match_37231\n",
      "Data exported: match_37230\n",
      "Data exported: match_37252\n",
      "Data exported: match_37253\n",
      "Data exported: match_37251\n",
      "Data exported: match_37229\n",
      "Data exported: match_37228\n",
      "Data exported: match_37227\n"
     ]
    }
   ],
   "source": [
    "# GameResult\n",
    "gameresult = GameResult() \n",
    "gameresult.set_directory(root_dir=root_dir)\n",
    "gameresult.export_to_db()"
   ]
  },
  {
   "cell_type": "code",
   "execution_count": 6,
   "metadata": {},
   "outputs": [
    {
     "output_type": "stream",
     "name": "stdout",
     "text": [
      "Data exported: match_37234\n",
      "Data exported: match_37233\n",
      "Data exported: match_37256\n",
      "Data exported: match_37255\n",
      "Data exported: match_37254\n",
      "Data exported: match_37232\n",
      "Data exported: match_37231\n",
      "Data exported: match_37230\n",
      "Data exported: match_37252\n",
      "Data exported: match_37253\n",
      "Data exported: match_37251\n",
      "Data exported: match_37229\n",
      "Data exported: match_37228\n",
      "Data exported: match_37227\n"
     ]
    }
   ],
   "source": [
    "# Kill\n",
    "kill = Kill() \n",
    "kill.set_directory(root_dir=root_dir)\n",
    "kill.export_to_db()"
   ]
  },
  {
   "cell_type": "code",
   "execution_count": 7,
   "metadata": {},
   "outputs": [
    {
     "output_type": "stream",
     "name": "stdout",
     "text": [
      "Data exported: match_37234\n",
      "Data exported: match_37233\n",
      "Data exported: match_37256\n",
      "Data exported: match_37255\n",
      "Data exported: match_37254\n",
      "Data exported: match_37232\n",
      "Data exported: match_37231\n",
      "Data exported: match_37230\n",
      "Data exported: match_37252\n",
      "Data exported: match_37253\n",
      "Data exported: match_37251\n",
      "Data exported: match_37229\n",
      "Data exported: match_37228\n",
      "Data exported: match_37227\n"
     ]
    }
   ],
   "source": [
    "# PlayerStatus\n",
    "playerstatus = PlayerStatus()\n",
    "playerstatus.set_directory(root_dir=root_dir)\n",
    "playerstatus.export_to_db()"
   ]
  },
  {
   "cell_type": "code",
   "execution_count": 9,
   "metadata": {},
   "outputs": [
    {
     "output_type": "stream",
     "name": "stderr",
     "text": [
      "num row: 6082it [00:00, 28400.41it/s]creating new table: match_37234\n",
      "num row: 15623it [00:00, 30321.75it/s]creating new table: match_37233\n",
      "num row: 25150it [00:00, 31064.64it/s]creating new table: match_37256\n",
      "num row: 31811it [00:01, 31167.33it/s]creating new table: match_37255\n",
      "num row: 41664it [00:01, 31435.66it/s]creating new table: match_37254\n",
      "num row: 51513it [00:01, 31665.34it/s]creating new table: match_37232\n",
      "num row: 57772it [00:01, 30633.31it/s]creating new table: match_37231\n",
      "num row: 67688it [00:02, 31444.93it/s]creating new table: match_37230\n",
      "num row: 77594it [00:02, 31690.57it/s]creating new table: match_37252\n",
      "creating new table: match_37253\n",
      "num row: 87293it [00:02, 28618.76it/s]creating new table: match_37251\n",
      "num row: 97042it [00:03, 30587.04it/s]creating new table: match_37229\n",
      "num row: 106932it [00:03, 31295.68it/s]creating new table: match_37228\n",
      "num row: 113472it [00:03, 30834.18it/s]creating new table: match_37227\n",
      "num row: 88143093it [1:16:14, 19266.45it/s]\n",
      "Time taken: 4577.940669536591s\n"
     ]
    }
   ],
   "source": [
    "# PlayerHeroStats\n",
    "playerherostats = PlayerHeroStats()\n",
    "playerherostats.set_directory(root_dir=root_dir)\n",
    "playerherostats.read_and_dump_data()"
   ]
  }
 ]
}