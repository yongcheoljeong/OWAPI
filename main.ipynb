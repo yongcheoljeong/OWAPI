{
 "metadata": {
  "language_info": {
   "codemirror_mode": {
    "name": "ipython",
    "version": 3
   },
   "file_extension": ".py",
   "mimetype": "text/x-python",
   "name": "python",
   "nbconvert_exporter": "python",
   "pygments_lexer": "ipython3",
   "version": "3.8.5"
  },
  "orig_nbformat": 2,
  "kernelspec": {
   "name": "python385jvsc74a57bd010bab76ca3a792500c84cf15e41f41f3b47c84305661022fd44a3b2beb095cfa",
   "display_name": "Python 3.8.5 64-bit (conda)"
  }
 },
 "nbformat": 4,
 "nbformat_minor": 2,
 "cells": [
  {
   "cell_type": "code",
   "execution_count": 1,
   "metadata": {},
   "outputs": [],
   "source": [
    "from EventStreamData import *\n",
    "from GUID import *\n",
    "import pandas as pd \n",
    "import numpy as np \n",
    "from pandas.io.json import json_normalize"
   ]
  },
  {
   "cell_type": "code",
   "execution_count": 2,
   "metadata": {},
   "outputs": [],
   "source": [
    "root_dir = r'D:\\2021_EventStreamData\\20210510'\n",
    "if_exists = 'append'"
   ]
  },
  {
   "cell_type": "code",
   "execution_count": 3,
   "metadata": {},
   "outputs": [
    {
     "output_type": "stream",
     "name": "stdout",
     "text": [
      "Data exported: match_37147\n",
      "Data exported: match_37377\n",
      "Data exported: match_37378\n",
      "Data exported: match_37379\n",
      "Data exported: match_37392\n",
      "Data exported: match_37391\n",
      "Data exported: match_37380\n"
     ]
    }
   ],
   "source": [
    "# GameInfo\n",
    "gameinfo = GameInfo() \n",
    "gameinfo.set_directory(root_dir=root_dir)\n",
    "gameinfo.export_to_db(if_exists=if_exists)"
   ]
  },
  {
   "cell_type": "code",
   "execution_count": 4,
   "metadata": {},
   "outputs": [
    {
     "output_type": "stream",
     "name": "stdout",
     "text": [
      "Data exported: match_37147\n",
      "Data exported: match_37377\n",
      "Data exported: match_37378\n",
      "Data exported: match_37379\n",
      "Data exported: match_37392\n",
      "Data exported: match_37391\n",
      "Data exported: match_37380\n"
     ]
    }
   ],
   "source": [
    "# RoundStart \n",
    "roundstart = RoundStart()\n",
    "roundstart.set_directory(root_dir=root_dir)\n",
    "roundstart.export_to_db(if_exists=if_exists)"
   ]
  },
  {
   "cell_type": "code",
   "execution_count": 5,
   "metadata": {},
   "outputs": [
    {
     "output_type": "stream",
     "name": "stdout",
     "text": [
      "Data exported: match_37147\n",
      "Data exported: match_37377\n",
      "Data exported: match_37378\n",
      "Data exported: match_37379\n",
      "Data exported: match_37392\n",
      "Data exported: match_37391\n",
      "Data exported: match_37380\n"
     ]
    }
   ],
   "source": [
    "# GameResult\n",
    "gameresult = GameResult() \n",
    "gameresult.set_directory(root_dir=root_dir)\n",
    "gameresult.export_to_db(if_exists=if_exists) "
   ]
  },
  {
   "cell_type": "code",
   "execution_count": 6,
   "metadata": {},
   "outputs": [
    {
     "output_type": "stream",
     "name": "stdout",
     "text": [
      "Data exported: match_37147\n",
      "Data exported: match_37377\n",
      "Data exported: match_37378\n",
      "Data exported: match_37379\n",
      "Data exported: match_37392\n",
      "Data exported: match_37391\n",
      "Data exported: match_37380\n"
     ]
    }
   ],
   "source": [
    "# Kill\n",
    "kill = Kill() \n",
    "kill.set_directory(root_dir=root_dir)\n",
    "kill.export_to_db(if_exists=if_exists)"
   ]
  },
  {
   "cell_type": "code",
   "execution_count": 7,
   "metadata": {},
   "outputs": [
    {
     "output_type": "stream",
     "name": "stdout",
     "text": [
      "Data exported: match_37147\n",
      "Data exported: match_37377\n",
      "Data exported: match_37378\n",
      "Data exported: match_37379\n",
      "Data exported: match_37392\n",
      "Data exported: match_37391\n",
      "Data exported: match_37380\n"
     ]
    }
   ],
   "source": [
    "# PlayerStatus\n",
    "playerstatus = PlayerStatus()\n",
    "playerstatus.set_directory(root_dir=root_dir)\n",
    "playerstatus.export_to_db(if_exists=if_exists)"
   ]
  },
  {
   "cell_type": "code",
   "execution_count": 8,
   "metadata": {},
   "outputs": [
    {
     "output_type": "stream",
     "name": "stderr",
     "text": [
      "num row: 3537it [00:00, 35122.50it/s]creating new table: match_37377\n",
      "num row: 26880it [00:00, 31569.48it/s]creating new table: match_37378\n",
      "num row: 43597it [00:01, 32215.36it/s]creating new table: match_37379\n",
      "num row: 64559it [00:01, 32927.03it/s]creating new table: match_37392\n",
      "num row: 85455it [00:02, 32948.35it/s]creating new table: match_37391\n",
      "num row: 95733it [00:02, 32733.55it/s]creating new table: match_37380\n",
      "num row: 48056009it [42:24, 18885.04it/s]\n",
      "Time taken: 2545.909820318222s\n"
     ]
    }
   ],
   "source": [
    "# PlayerHeroStats\n",
    "playerherostats = PlayerHeroStats()\n",
    "playerherostats.set_directory(root_dir=root_dir)\n",
    "playerherostats.read_and_dump_data()"
   ]
  }
 ]
}