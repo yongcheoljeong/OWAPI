{
 "metadata": {
  "language_info": {
   "codemirror_mode": {
    "name": "ipython",
    "version": 3
   },
   "file_extension": ".py",
   "mimetype": "text/x-python",
   "name": "python",
   "nbconvert_exporter": "python",
   "pygments_lexer": "ipython3",
   "version": "3.8.5-final"
  },
  "orig_nbformat": 2,
  "kernelspec": {
   "name": "python3",
   "display_name": "Python 3.8.5 64-bit (conda)",
   "metadata": {
    "interpreter": {
     "hash": "10bab76ca3a792500c84cf15e41f41f3b47c84305661022fd44a3b2beb095cfa"
    }
   }
  }
 },
 "nbformat": 4,
 "nbformat_minor": 2,
 "cells": [
  {
   "cell_type": "code",
   "execution_count": 1,
   "metadata": {},
   "outputs": [],
   "source": [
    "from EventStreamData import *\n",
    "from GUID import *\n",
    "import pandas as pd \n",
    "import numpy as np \n",
    "from pandas.io.json import json_normalize"
   ]
  },
  {
   "cell_type": "code",
   "execution_count": 3,
   "metadata": {
    "tags": []
   },
   "outputs": [
    {
     "output_type": "display_data",
     "data": {
      "text/plain": "  esports_match_id     start_time  num_map            map_name map_type  \\\n0            31054  1586031115938        1  576460752303425122  CONTROL   \n1            31054  1586031884822        2  576460752303423963  ASSAULT   \n2            31054  1586034492985        3  576460752303424955  PAYLOAD   \n3            31054  1586035710426        4  576460752303425165   HYBRID   \n4            31071  1586037937586        1  576460752303425182  CONTROL   \n\n   map_winner  team_one_name  team_two_name  \n0        7695           7695           7697  \n1        7697           7697           7695  \n2        7695           7697           7695  \n3        7695           7697           7695  \n4        4406           4406           4523  ",
      "text/html": "<div>\n<style scoped>\n    .dataframe tbody tr th:only-of-type {\n        vertical-align: middle;\n    }\n\n    .dataframe tbody tr th {\n        vertical-align: top;\n    }\n\n    .dataframe thead th {\n        text-align: right;\n    }\n</style>\n<table border=\"1\" class=\"dataframe\">\n  <thead>\n    <tr style=\"text-align: right;\">\n      <th></th>\n      <th>esports_match_id</th>\n      <th>start_time</th>\n      <th>num_map</th>\n      <th>map_name</th>\n      <th>map_type</th>\n      <th>map_winner</th>\n      <th>team_one_name</th>\n      <th>team_two_name</th>\n    </tr>\n  </thead>\n  <tbody>\n    <tr>\n      <th>0</th>\n      <td>31054</td>\n      <td>1586031115938</td>\n      <td>1</td>\n      <td>576460752303425122</td>\n      <td>CONTROL</td>\n      <td>7695</td>\n      <td>7695</td>\n      <td>7697</td>\n    </tr>\n    <tr>\n      <th>1</th>\n      <td>31054</td>\n      <td>1586031884822</td>\n      <td>2</td>\n      <td>576460752303423963</td>\n      <td>ASSAULT</td>\n      <td>7697</td>\n      <td>7697</td>\n      <td>7695</td>\n    </tr>\n    <tr>\n      <th>2</th>\n      <td>31054</td>\n      <td>1586034492985</td>\n      <td>3</td>\n      <td>576460752303424955</td>\n      <td>PAYLOAD</td>\n      <td>7695</td>\n      <td>7697</td>\n      <td>7695</td>\n    </tr>\n    <tr>\n      <th>3</th>\n      <td>31054</td>\n      <td>1586035710426</td>\n      <td>4</td>\n      <td>576460752303425165</td>\n      <td>HYBRID</td>\n      <td>7695</td>\n      <td>7697</td>\n      <td>7695</td>\n    </tr>\n    <tr>\n      <th>4</th>\n      <td>31071</td>\n      <td>1586037937586</td>\n      <td>1</td>\n      <td>576460752303425182</td>\n      <td>CONTROL</td>\n      <td>4406</td>\n      <td>4406</td>\n      <td>4523</td>\n    </tr>\n  </tbody>\n</table>\n</div>"
     },
     "metadata": {}
    }
   ],
   "source": [
    "gameresult = GameResult()\n",
    "display(pd.DataFrame(gameresult.df_raw.head(5)))"
   ]
  },
  {
   "cell_type": "code",
   "execution_count": null,
   "metadata": {},
   "outputs": [],
   "source": []
  }
 ]
}