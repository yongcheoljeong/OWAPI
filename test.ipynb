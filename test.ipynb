{
 "cells": [
  {
   "cell_type": "code",
   "execution_count": 4,
   "metadata": {},
   "outputs": [],
   "source": [
    "import pandas as pd\n",
    "import numpy as np\n",
    "from tqdm import tqdm\n",
    "import os\n",
    "import json\n",
    "import time\n",
    "import csv\n",
    "import scipy.io as sio\n",
    "import collections\n",
    "import gzip\n",
    "from matplotlib import pyplot as plt"
   ]
  },
  {
   "cell_type": "code",
   "execution_count": 2,
   "metadata": {},
   "outputs": [],
   "source": [
    "dir = '2020Sep24 - Overwatch League - 37 files/Event Stream Data/2020 Season Match Data/20200817/'\n",
    "filename = f'{dir}payload_gameresult-20200810-20200816.tsv.gz'"
   ]
  },
  {
   "cell_type": "code",
   "execution_count": 3,
   "metadata": {},
   "outputs": [
    {
     "output_type": "execute_result",
     "data": {
      "text/plain": [
       "46"
      ]
     },
     "metadata": {},
     "execution_count": 3
    }
   ],
   "source": [
    "df = pd.read_csv(filename, delimiter='\\t')\n",
    "new_df = pd.json_normalize(json.loads(df.loc[0,'players']))\n",
    "len(df)\n",
    "# new_df"
   ]
  },
  {
   "cell_type": "code",
   "execution_count": 14,
   "metadata": {},
   "outputs": [
    {
     "output_type": "stream",
     "name": "stderr",
     "text": [
      "num row: 46it [00:00, 167.73it/s]\n"
     ]
    }
   ],
   "source": [
    "def flatten_json(y):\n",
    "    out = {}\n",
    "\n",
    "    def flatten(x, name=''):\n",
    "        if type(x) is dict:\n",
    "            for a in x:\n",
    "                flatten(x[a], name + a + '_')\n",
    "        elif type(x) is list:\n",
    "            i = 0\n",
    "            for a in x:\n",
    "                flatten(a, name + str(i) + '_')\n",
    "                i += 1\n",
    "        else:\n",
    "            out[name[:-1]] = x\n",
    "\n",
    "    flatten(y)\n",
    "    return out\n",
    "\n",
    "non_json_headers = ['time', 'winningteamid', 'total_game_time_ms', 'esports_match_id']\n",
    "info_nested_json = ['esports_ids_esports_match_game_number', 'game_context_map_guid', 'game_context_map_type', 'game_context_round']\n",
    "score_info_nested_json = ['attacking_team_esports_team_id']\n",
    "team_info_nested_json = ['payload_distance', 'time_banked', 'score', 'control_info', 'team.esports_team_id']\n",
    "players_info_nested_json = ['base_player.battletag', 'team.esports_team_id']\n",
    "\n",
    "total_headers = non_json_headers + info_headers + info_nested_json + score_info_headers + score_info_nested_json + team_info_nested_json*2 + players_info_nested_json\n",
    "\n",
    "n = 0\n",
    "with gzip.open(filename, mode='rt', newline='') as csv_file:\n",
    "    csv_reader = csv.DictReader(csv_file, delimiter = '\\t')\n",
    "    for row in tqdm(csv_reader, desc = 'num row'):\n",
    "        n += 1\n",
    "        esports_match_id = row['esports_match_id'] # esports_match_id 따로 빼서 비교\n",
    "        # table_name = f'match_{esports_match_id}'\n",
    "        data = [row[x] for x in non_json_headers]\n",
    "        \n",
    "        info_json = json.loads(row['info'])\n",
    "        tmp = flatten_json(info_json)\n",
    "        flat = pd.json_normalize(tmp)\n",
    "        data.extend([(flat[x][0]) for x in info_nested_json])\n",
    "\n",
    "        score_info_json = json.loads(row['score_info'])\n",
    "        tmp = flatten_json(score_info_json)\n",
    "        flat = pd.json_normalize(tmp)\n",
    "        data.extend([(flat[x][0]) for x in score_info_nested_json])\n",
    "\n",
    "        team_a = pd.json_normalize(tmp_flatten['team_info'][0][0])\n",
    "        team_b = pd.json_normalize(tmp_flatten['team_info'][0][1])\n",
    "        data.extend([team_a[x][0] for x in team_info_nested_json])\n",
    "        data.extend([team_b[x][0] for x in team_info_nested_json])\n",
    "\n",
    "        players_json = json.loads(row['players'])\n",
    "        tmp_flatten = pd.json_normalize(players_json)\n",
    "        data.extend([(tmp_flatten[x]) for x in players_info_nested_json])"
   ]
  },
  {
   "cell_type": "code",
   "execution_count": 16,
   "metadata": {},
   "outputs": [
    {
     "output_type": "execute_result",
     "data": {
      "text/plain": [
       "   round_num                     attacking_team_id  round_name_guid  \\\n",
       "0          4  3dfb307c-5c7a-bc48-9e41-96a3cbcc414f                0   \n",
       "\n",
       "                    team_info_0_team_id  team_info_0_payload_distance  \\\n",
       "0  3dfb307c-5c7a-bc48-9e41-96a3cbcc414f                           0.0   \n",
       "\n",
       "   team_info_0_time_banked  team_info_0_score team_info_0_control_info  \\\n",
       "0                      0.0                  3                     None   \n",
       "\n",
       "               team_info_0_team_team_id  team_info_0_team_esports_team_id  \\\n",
       "0  3dfb307c-5c7a-bc48-9e41-96a3cbcc414f                              7698   \n",
       "\n",
       "                    team_info_1_team_id  team_info_1_payload_distance  \\\n",
       "0  6df3c959-372b-954b-a03b-211d9d80c089                           0.0   \n",
       "\n",
       "   team_info_1_time_banked  team_info_1_score team_info_1_control_info  \\\n",
       "0                      0.0                  4                     None   \n",
       "\n",
       "               team_info_1_team_team_id  team_info_1_team_esports_team_id  \\\n",
       "0  6df3c959-372b-954b-a03b-211d9d80c089                              7696   \n",
       "\n",
       "                 attacking_team_team_id  attacking_team_esports_team_id  \n",
       "0  3dfb307c-5c7a-bc48-9e41-96a3cbcc414f                            7698  "
      ],
      "text/html": "<div>\n<style scoped>\n    .dataframe tbody tr th:only-of-type {\n        vertical-align: middle;\n    }\n\n    .dataframe tbody tr th {\n        vertical-align: top;\n    }\n\n    .dataframe thead th {\n        text-align: right;\n    }\n</style>\n<table border=\"1\" class=\"dataframe\">\n  <thead>\n    <tr style=\"text-align: right;\">\n      <th></th>\n      <th>round_num</th>\n      <th>attacking_team_id</th>\n      <th>round_name_guid</th>\n      <th>team_info_0_team_id</th>\n      <th>team_info_0_payload_distance</th>\n      <th>team_info_0_time_banked</th>\n      <th>team_info_0_score</th>\n      <th>team_info_0_control_info</th>\n      <th>team_info_0_team_team_id</th>\n      <th>team_info_0_team_esports_team_id</th>\n      <th>team_info_1_team_id</th>\n      <th>team_info_1_payload_distance</th>\n      <th>team_info_1_time_banked</th>\n      <th>team_info_1_score</th>\n      <th>team_info_1_control_info</th>\n      <th>team_info_1_team_team_id</th>\n      <th>team_info_1_team_esports_team_id</th>\n      <th>attacking_team_team_id</th>\n      <th>attacking_team_esports_team_id</th>\n    </tr>\n  </thead>\n  <tbody>\n    <tr>\n      <th>0</th>\n      <td>4</td>\n      <td>3dfb307c-5c7a-bc48-9e41-96a3cbcc414f</td>\n      <td>0</td>\n      <td>3dfb307c-5c7a-bc48-9e41-96a3cbcc414f</td>\n      <td>0.0</td>\n      <td>0.0</td>\n      <td>3</td>\n      <td>None</td>\n      <td>3dfb307c-5c7a-bc48-9e41-96a3cbcc414f</td>\n      <td>7698</td>\n      <td>6df3c959-372b-954b-a03b-211d9d80c089</td>\n      <td>0.0</td>\n      <td>0.0</td>\n      <td>4</td>\n      <td>None</td>\n      <td>6df3c959-372b-954b-a03b-211d9d80c089</td>\n      <td>7696</td>\n      <td>3dfb307c-5c7a-bc48-9e41-96a3cbcc414f</td>\n      <td>7698</td>\n    </tr>\n  </tbody>\n</table>\n</div>"
     },
     "metadata": {},
     "execution_count": 16
    }
   ],
   "source": [
    "def flatten_json(y):\n",
    "    out = {}\n",
    "\n",
    "    def flatten(x, name=''):\n",
    "        if type(x) is dict:\n",
    "            for a in x:\n",
    "                flatten(x[a], name + a + '_')\n",
    "        elif type(x) is list:\n",
    "            i = 0\n",
    "            for a in x:\n",
    "                flatten(a, name + str(i) + '_')\n",
    "                i += 1\n",
    "        else:\n",
    "            out[name[:-1]] = x\n",
    "\n",
    "    flatten(y)\n",
    "    return out\n",
    "sample_json = score_info_json\n",
    "flat = flatten_json(sample_json)\n",
    "res = pd.json_normalize(flat)\n",
    "res"
   ]
  },
  {
   "cell_type": "code",
   "execution_count": 9,
   "metadata": {},
   "outputs": [
    {
     "output_type": "execute_result",
     "data": {
      "text/plain": [
       "{'round_num': 4,\n",
       " 'attacking_team_id': '3dfb307c-5c7a-bc48-9e41-96a3cbcc414f',\n",
       " 'round_name_guid': 0,\n",
       " 'team_info': [{'team_id': '3dfb307c-5c7a-bc48-9e41-96a3cbcc414f',\n",
       "   'payload_distance': 0.0,\n",
       "   'time_banked': 0.0,\n",
       "   'score': 3,\n",
       "   'control_info': None,\n",
       "   'team': {'team_id': '3dfb307c-5c7a-bc48-9e41-96a3cbcc414f',\n",
       "    'esports_team_id': 7698}},\n",
       "  {'team_id': '6df3c959-372b-954b-a03b-211d9d80c089',\n",
       "   'payload_distance': 0.0,\n",
       "   'time_banked': 0.0,\n",
       "   'score': 4,\n",
       "   'control_info': None,\n",
       "   'team': {'team_id': '6df3c959-372b-954b-a03b-211d9d80c089',\n",
       "    'esports_team_id': 7696}}],\n",
       " 'attacking_team': {'team_id': '3dfb307c-5c7a-bc48-9e41-96a3cbcc414f',\n",
       "  'esports_team_id': 7698}}"
      ]
     },
     "metadata": {},
     "execution_count": 9
    }
   ],
   "source": [
    "score_info_json"
   ]
  },
  {
   "cell_type": "code",
   "execution_count": 15,
   "metadata": {},
   "outputs": [
    {
     "output_type": "execute_result",
     "data": {
      "text/plain": [
       "['1597622085567',\n",
       " '6df3c959-372b-954b-a03b-211d9d80c089',\n",
       " '1322694',\n",
       " '34765',\n",
       " 3,\n",
       " 576460752303423963,\n",
       " 'ASSAULT',\n",
       " 4,\n",
       " 7698,\n",
       " 0.0,\n",
       " 0.0,\n",
       " 3,\n",
       " None,\n",
       " 7698,\n",
       " 0.0,\n",
       " 0.0,\n",
       " 4,\n",
       " None,\n",
       " 7696,\n",
       " 0         Saucy#7530\n",
       " 1        Dalton#6004\n",
       " 2          KSAA#3999\n",
       " 3         Roolf#5920\n",
       " 4         Gator#1190\n",
       " 5          Hawk#3240\n",
       " 6     ShRedLock#9774\n",
       " 7         Masaa#5436\n",
       " 8        Edison#8117\n",
       " 9          lr1s#6266\n",
       " 10       CarCar#2891\n",
       " 11    sHockWave#4050\n",
       " Name: base_player.battletag, dtype: object,\n",
       " 0     7698\n",
       " 1     7696\n",
       " 2     7696\n",
       " 3     7696\n",
       " 4     7698\n",
       " 5     7698\n",
       " 6     7696\n",
       " 7     7698\n",
       " 8     7698\n",
       " 9     7698\n",
       " 10    7696\n",
       " 11    7696\n",
       " Name: team.esports_team_id, dtype: int64]"
      ]
     },
     "metadata": {},
     "execution_count": 15
    }
   ],
   "source": [
    "data"
   ]
  }
 ],
 "metadata": {
  "kernelspec": {
   "name": "python3",
   "display_name": "Python 3.7.9 64-bit",
   "metadata": {
    "interpreter": {
     "hash": "38e778ec9b46f150f7def600b4936b3e96b2bd9fb9bb7d407a503baa85be6239"
    }
   }
  },
  "language_info": {
   "codemirror_mode": {
    "name": "ipython",
    "version": 3
   },
   "file_extension": ".py",
   "mimetype": "text/x-python",
   "name": "python",
   "nbconvert_exporter": "python",
   "pygments_lexer": "ipython3",
   "version": "3.7.9-final"
  }
 },
 "nbformat": 4,
 "nbformat_minor": 4
}