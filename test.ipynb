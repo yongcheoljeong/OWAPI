{
 "cells": [
  {
   "cell_type": "code",
   "execution_count": 1,
   "metadata": {},
   "outputs": [],
   "source": [
    "import pandas as pd\n",
    "import numpy as np\n",
    "import zipfile\n",
    "import os\n",
    "import json"
   ]
  },
  {
   "cell_type": "code",
   "execution_count": 2,
   "metadata": {},
   "outputs": [],
   "source": [
    "zf = zipfile.ZipFile('2020Sep24 - Overwatch League - 37 files.zip')\n",
    "# print(zf.namelist())"
   ]
  },
  {
   "cell_type": "code",
   "execution_count": 3,
   "metadata": {},
   "outputs": [],
   "source": [
    "# 경로 설정\n",
    "# zdir = r'/zipfiledirectory'\n",
    "filename = 'payload_gameinfo-20200831-20200906.tsv.gz'"
   ]
  },
  {
   "cell_type": "code",
   "execution_count": 19,
   "metadata": {},
   "outputs": [],
   "source": [
    "# class 설정\n",
    "\n",
    "class GameInfo:\n",
    "    \n",
    "    def __init__(self, filename): \n",
    "        '''\n",
    "        GetGameInfo('tsv file name')\n",
    "        tsv 파일 -> dataframe\n",
    "        접근: self.df\n",
    "        '''\n",
    "        self.filename = filename\n",
    "        self.df = pd.read_csv(self.filename, delimiter = '\\t')[['time_c', 'info', 'score_info', 'esports_match_id']]\n",
    "        \n",
    "\n",
    "    def getesports_match_ids(self): \n",
    "        '''\n",
    "        self.getsports_match_ids()\n",
    "        해당 주에 있었던 esports_match_ids 모두 return\n",
    "        \n",
    "        '''\n",
    "        self.esports_match_ids = pd.unique(self.df['esports_match_id'])\n",
    "        \n",
    "        return self.esports_match_ids\n",
    "\n",
    "    def getgame(self, esports_match_id): \n",
    "        '''\n",
    "        self.getgame(esports_match_id)\n",
    "        해당 esports_match_id 경기의 game_info 추출\n",
    "        접근: self.df_match\n",
    "        \n",
    "        '''\n",
    "        self.esports_match_id = esports_match_id\n",
    "        mask = self.df.esports_match_id == esports_match_id\n",
    "        self.df_match = self.df.loc[mask,:]\n",
    "\n",
    "        return self\n",
    "\n",
    "    def getteaminfo(self): # 주간 gameinfo tsv 파일과 esports_match_id 입력하면 팀 id return\n",
    "        '''\n",
    "        self.getteaminfo(esports_match_id)\n",
    "        해당 esports_match_id 경기의 team_info return. \n",
    "                \n",
    "        '''\n",
    "        mask = self.df.esports_match_id == self.esports_match_id\n",
    "        self.df_match = self.df.loc[mask,:]\n",
    "        jf = json.loads(self.df_match.loc[min(mask[mask==True].index.values),'score_info']) # esports_match_id에 해당하는 info의 가장 첫 row에 있는 team 정보를 받아옴\n",
    "        self.teams = (jf['team_info'][0]['team']['esports_team_id'], jf['team_info'][1]['team']['esports_team_id'])\n",
    "        \n",
    "        return self.teams\n",
    "    \n",
    "    def getmapinfo(self): # match_game_num, map_guid, map_type\n",
    "        '''\n",
    "        self.getgame(esports_match_id).getscoreinfo(시간상 몇번째)\n",
    "        해당 esports_match_id 경기의 score_info에서 match_game_number, map_guid, map_type return, round_num\n",
    "                \n",
    "        '''\n",
    "        # for i in self.df_match: num 입력 안해도 match game number 대로 맵 정보 나올 수 있도록 하는 코드 추가해야 함\n",
    "        #     print(i)\n",
    "        #     jf = append(pd.read_json(self.df_match.loc[i, 'info']))\n",
    "\n",
    "        for i in self.df_match.index:\n",
    "            print(i)\n",
    "            jf = pd.read_json(self.df_match.loc[i, 'info'])\n",
    "            self.mapinfo[i] = (jf.esports_ids.esports_match_game_number, jf.game_context.map_guid, jf.game_context.map_type)\n",
    "\n",
    "        return self.mapinfo"
   ]
  },
  {
   "cell_type": "code",
   "execution_count": 20,
   "metadata": {},
   "outputs": [
    {
     "output_type": "error",
     "ename": "AttributeError",
     "evalue": "'GameInfo' object has no attribute 'mapinfo'",
     "traceback": [
      "\u001b[1;31m---------------------------------------------------------------------------\u001b[0m",
      "\u001b[1;31mAttributeError\u001b[0m                            Traceback (most recent call last)",
      "\u001b[1;32m<ipython-input-20-24b2b01ed072>\u001b[0m in \u001b[0;36m<module>\u001b[1;34m\u001b[0m\n\u001b[0;32m      5\u001b[0m \u001b[0mti\u001b[0m \u001b[1;33m=\u001b[0m \u001b[0mdata\u001b[0m\u001b[1;33m.\u001b[0m\u001b[0mgetgame\u001b[0m\u001b[1;33m(\u001b[0m\u001b[0memi\u001b[0m\u001b[1;33m[\u001b[0m\u001b[1;36m0\u001b[0m\u001b[1;33m]\u001b[0m\u001b[1;33m)\u001b[0m\u001b[1;33m.\u001b[0m\u001b[0mgetteaminfo\u001b[0m\u001b[1;33m(\u001b[0m\u001b[1;33m)\u001b[0m\u001b[1;33m\u001b[0m\u001b[1;33m\u001b[0m\u001b[0m\n\u001b[0;32m      6\u001b[0m \u001b[1;31m# print(ti)\u001b[0m\u001b[1;33m\u001b[0m\u001b[1;33m\u001b[0m\u001b[1;33m\u001b[0m\u001b[0m\n\u001b[1;32m----> 7\u001b[1;33m \u001b[0msi\u001b[0m \u001b[1;33m=\u001b[0m \u001b[0mdata\u001b[0m\u001b[1;33m.\u001b[0m\u001b[0mgetgame\u001b[0m\u001b[1;33m(\u001b[0m\u001b[0memi\u001b[0m\u001b[1;33m[\u001b[0m\u001b[1;36m0\u001b[0m\u001b[1;33m]\u001b[0m\u001b[1;33m)\u001b[0m\u001b[1;33m.\u001b[0m\u001b[0mgetmapinfo\u001b[0m\u001b[1;33m(\u001b[0m\u001b[1;33m)\u001b[0m\u001b[1;33m\u001b[0m\u001b[1;33m\u001b[0m\u001b[0m\n\u001b[0m\u001b[0;32m      8\u001b[0m \u001b[1;31m# print(si)\u001b[0m\u001b[1;33m\u001b[0m\u001b[1;33m\u001b[0m\u001b[1;33m\u001b[0m\u001b[0m\n",
      "\u001b[1;32m<ipython-input-19-881338ded94a>\u001b[0m in \u001b[0;36mgetmapinfo\u001b[1;34m(self)\u001b[0m\n\u001b[0;32m     61\u001b[0m         \u001b[1;32mfor\u001b[0m \u001b[0mi\u001b[0m \u001b[1;32min\u001b[0m \u001b[0mself\u001b[0m\u001b[1;33m.\u001b[0m\u001b[0mdf_match\u001b[0m\u001b[1;33m.\u001b[0m\u001b[0mindex\u001b[0m\u001b[1;33m:\u001b[0m\u001b[1;33m\u001b[0m\u001b[1;33m\u001b[0m\u001b[0m\n\u001b[0;32m     62\u001b[0m             \u001b[0mjf\u001b[0m \u001b[1;33m=\u001b[0m \u001b[0mpd\u001b[0m\u001b[1;33m.\u001b[0m\u001b[0mread_json\u001b[0m\u001b[1;33m(\u001b[0m\u001b[0mself\u001b[0m\u001b[1;33m.\u001b[0m\u001b[0mdf_match\u001b[0m\u001b[1;33m.\u001b[0m\u001b[0mloc\u001b[0m\u001b[1;33m[\u001b[0m\u001b[0mi\u001b[0m\u001b[1;33m,\u001b[0m \u001b[1;34m'info'\u001b[0m\u001b[1;33m]\u001b[0m\u001b[1;33m)\u001b[0m\u001b[1;33m\u001b[0m\u001b[1;33m\u001b[0m\u001b[0m\n\u001b[1;32m---> 63\u001b[1;33m             \u001b[0mself\u001b[0m\u001b[1;33m.\u001b[0m\u001b[0mmapinfo\u001b[0m\u001b[1;33m[\u001b[0m\u001b[0mi\u001b[0m\u001b[1;33m]\u001b[0m \u001b[1;33m=\u001b[0m \u001b[1;33m(\u001b[0m\u001b[0mjf\u001b[0m\u001b[1;33m.\u001b[0m\u001b[0mesports_ids\u001b[0m\u001b[1;33m.\u001b[0m\u001b[0mesports_match_game_number\u001b[0m\u001b[1;33m,\u001b[0m \u001b[0mjf\u001b[0m\u001b[1;33m.\u001b[0m\u001b[0mgame_context\u001b[0m\u001b[1;33m.\u001b[0m\u001b[0mmap_guid\u001b[0m\u001b[1;33m,\u001b[0m \u001b[0mjf\u001b[0m\u001b[1;33m.\u001b[0m\u001b[0mgame_context\u001b[0m\u001b[1;33m.\u001b[0m\u001b[0mmap_type\u001b[0m\u001b[1;33m)\u001b[0m\u001b[1;33m\u001b[0m\u001b[1;33m\u001b[0m\u001b[0m\n\u001b[0m\u001b[0;32m     64\u001b[0m \u001b[1;33m\u001b[0m\u001b[0m\n\u001b[0;32m     65\u001b[0m         \u001b[1;32mreturn\u001b[0m \u001b[0mself\u001b[0m\u001b[1;33m.\u001b[0m\u001b[0mmapinfo\u001b[0m\u001b[1;33m\u001b[0m\u001b[1;33m\u001b[0m\u001b[0m\n",
      "\u001b[1;31mAttributeError\u001b[0m: 'GameInfo' object has no attribute 'mapinfo'"
     ]
    }
   ],
   "source": [
    "data = GameInfo(filename)\n",
    "# print(data.df)\n",
    "emi = data.getesports_match_ids()\n",
    "# print(emi[0])\n",
    "ti = data.getgame(emi[0]).getteaminfo()\n",
    "# print(ti)\n",
    "si = data.getgame(emi[0]).getmapinfo() \n",
    "# print(si)\n"
   ]
  },
  {
   "cell_type": "code",
   "execution_count": 12,
   "metadata": {},
   "outputs": [
    {
     "output_type": "stream",
     "name": "stdout",
     "text": [
      "[35535 35534 35515 35533 35532 35531 35514 35513 35536 35537 35538 35539\n 35521 35522 35546 35549 35540 35548]\nesports_match_id:  35535\n(4402, 4525)\nesports_match_id:  35534\n(7697, 7696)\nesports_match_id:  35515\n(4410, 7692)\nesports_match_id:  35533\n(7695, 4406)\nesports_match_id:  35532\n(4402, 7698)\nesports_match_id:  35531\n(7697, 4523)\nesports_match_id:  35514\n(7692, 4403)\nesports_match_id:  35513\n(4409, 7693)\nesports_match_id:  35536\n(4406, 4524)\nesports_match_id:  35537\n(4405, 4407)\nesports_match_id:  35538\n(7697, 4404)\nesports_match_id:  35539\n(7698, 7694)\nesports_match_id:  35521\n(4403, 4408)\nesports_match_id:  35522\n(4409, 7699)\nesports_match_id:  35546\n(4406, 4407)\nesports_match_id:  35549\n(7697, 7694)\nesports_match_id:  35540\n(4405, 4524)\nesports_match_id:  35548\n(7698, 4404)\n"
     ]
    }
   ],
   "source": [
    "week_num = GameInfo(filename)\n",
    "emi = week_num.getesports_match_ids()\n",
    "print(emi)\n",
    "for i in emi:\n",
    "    print('esports_match_id: ',i)\n",
    "    print(week_num.getgame(i).getteaminfo())\n"
   ]
  },
  {
   "cell_type": "code",
   "execution_count": null,
   "metadata": {},
   "outputs": [],
   "source": []
  }
 ],
 "metadata": {
  "kernelspec": {
   "name": "python3",
   "display_name": "Python 3.7.9 64-bit ('owl-data': conda)",
   "metadata": {
    "interpreter": {
     "hash": "38e778ec9b46f150f7def600b4936b3e96b2bd9fb9bb7d407a503baa85be6239"
    }
   }
  },
  "language_info": {
   "codemirror_mode": {
    "name": "ipython",
    "version": 3
   },
   "file_extension": ".py",
   "mimetype": "text/x-python",
   "name": "python",
   "nbconvert_exporter": "python",
   "pygments_lexer": "ipython3",
   "version": "3.7.9-final"
  }
 },
 "nbformat": 4,
 "nbformat_minor": 4
}